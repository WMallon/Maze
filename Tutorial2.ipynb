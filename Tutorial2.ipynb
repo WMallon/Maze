{
 "cells": [
  {
   "cell_type": "code",
   "execution_count": null,
   "id": "4390f40e-fbe6-4ead-9e45-453e4dff2580",
   "metadata": {},
   "outputs": [],
   "source": [
    "data_dir = fullfile(getenv('PWD'),'sub-01');\n",
    "spm_dir = fullfile(getenv('PWD'),'spm12');\n",
    "data_res = [data_dir '/results'];\n",
    "mkdir(data_res);\n",
    "data_prep = [data_dir '/prep'];\n",
    "mkdir(data_prep);\n",
    "data_stat = [data_dir '/stat'];\n",
    "mkdir(data_stat);\n",
    "processing_dir = data_prep;\n",
    "\n",
    "#Load structural\n",
    "#s_raw_fn = .zip whereas s_fn = .nii\n",
    "s_raw_fn = fullfile(data_dir, 'anat', ['sub-01' '_T1w.nii.gz']);\n",
    "if exist(s_raw_fn, 'file')\n",
    "    out_fns = gunzip(s_raw_fn);\n",
    "    s_fn = out_fns{1};\n",
    "else\n",
    "    s_fn = strrep(s_raw_fn, '.gz', '');\n",
    "end\n",
    "\n",
    "#Load functional\n",
    "f_raw_fn = fullfile(data_dir, 'func', ['sub-01' '_task-ft_run-1_bold.nii.gz']);\n",
    "if exist(f_raw_fn, 'file')\n",
    "    out_fns = gunzip(f_raw_fn);\n",
    "    f_fn = out_fns{1};\n",
    "else\n",
    "    f_fn = strrep(f_raw_fn, '.gz', '');\n",
    "end\n",
    "\n",
    "% Create preprocessing subfolders anat and func\n",
    "anat_dir = fullfile(processing_dir, 'anat'); \n",
    "func_dir = fullfile(processing_dir, 'func'); \n",
    "if ~exist(anat_dir, 'dir')\n",
    "    mkdir(anat_dir)\n",
    "end\n",
    "if ~exist(func_dir, 'dir')\n",
    "    mkdir(func_dir)\n",
    "end\n",
    "% Copy extracted files to preprocessing subfolders\n",
    "anat_fn = fullfile(processing_dir, 'anat', ['sub-01' '_T1w.nii']);\n",
    "func_fn = fullfile(processing_dir, 'func', ['sub-01' '_task-passiveimageviewing_bold.nii']);\n",
    "if ~exist(anat_fn, 'file')\n",
    "    copyfile(s_fn, anat_dir)\n",
    "end\n",
    "if ~exist(func_fn, 'file')\n",
    "    copyfile(f_fn, func_dir)\n",
    "end"
   ]
  },
  {
   "cell_type": "code",
   "execution_count": null,
   "id": "5d2a711c-d616-49da-9ad9-25bea2c85644",
   "metadata": {},
   "outputs": [],
   "source": []
  }
 ],
 "metadata": {
  "kernelspec": {
   "display_name": "Octave",
   "language": "octave",
   "name": "octave"
  },
  "language_info": {
   "file_extension": ".m",
   "help_links": [
    {
     "text": "GNU Octave",
     "url": "https://www.gnu.org/software/octave/support.html"
    },
    {
     "text": "Octave Kernel",
     "url": "https://github.com/Calysto/octave_kernel"
    },
    {
     "text": "MetaKernel Magics",
     "url": "https://metakernel.readthedocs.io/en/latest/source/README.html"
    }
   ],
   "mimetype": "text/x-octave",
   "name": "octave",
   "version": "9.3.0"
  }
 },
 "nbformat": 4,
 "nbformat_minor": 5
}
