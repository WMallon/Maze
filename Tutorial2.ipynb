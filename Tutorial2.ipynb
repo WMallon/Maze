{
 "cells": [
  {
   "cell_type": "markdown",
   "id": "a4a5b68c-4bde-483d-b35f-dc4fdc4b7966",
   "metadata": {},
   "source": [
    "SPM12 tutorial using Octave\n",
    "\n",
    "This tutorial will show how to preprocess fMRI data using the SPM12 toolbox\n",
    "\n",
    "This Jupyter notebook utilizes an Octave kernel on Binder, offering a cloud-based platform for running SPM12 and Matlab scripts. It creates a fully reproducible environment for fMRI analysis, ensuring that anyone with internet access can run the same code on the same dataset and achieve identical results. In addition to being a powerful resource for tutorials and collaboration, it also serves as a means to openly share the data and methods that underpin scientific research\n"
   ]
  },
  {
   "cell_type": "code",
   "execution_count": null,
   "id": "565f71e9-1cf9-4493-8d22-0ba752a77b66",
   "metadata": {},
   "outputs": [],
   "source": [
    "% Set the subject and SPM12 directories\n",
    "data_dir = fullfile(getenv('PWD'),'sub-01');\n",
    "spm_dir = fullfile(getenv('PWD'),'spm12');"
   ]
  },
  {
   "cell_type": "code",
   "execution_count": null,
   "id": "69bee0d7-29ff-4bff-8797-b03531b424f6",
   "metadata": {},
   "outputs": [],
   "source": [
    "# Create the prep, stat and results folders\n",
    "data_res = [data_dir '/results'];\n",
    "mkdir(data_res);\n",
    "data_prep = [data_dir '/prep'];\n",
    "mkdir(data_prep);\n",
    "data_stat = [data_dir '/stat'];\n",
    "mkdir(data_stat);"
   ]
  },
  {
   "cell_type": "code",
   "execution_count": null,
   "id": "32eb4292-c10c-402f-bee9-07e499102333",
   "metadata": {},
   "outputs": [],
   "source": [
    "% Set the processing directory\n",
    "processing_dir = data_prep;"
   ]
  },
  {
   "cell_type": "code",
   "execution_count": null,
   "id": "a3ec0331-51c0-4b1d-bfa4-5d3b115ebfba",
   "metadata": {},
   "outputs": [],
   "source": [
    "% Load the zipped and unzipped structural data\n",
    "#s_raw_fn = .zip whereas s_fn = .nii\n",
    "s_raw_fn = fullfile(data_dir, 'anat', ['sub-01' '_T1w.nii.gz']);\n",
    "if exist(s_raw_fn, 'file')\n",
    "    out_fns = gunzip(s_raw_fn);\n",
    "    s_fn = out_fns{1};\n",
    "else\n",
    "    s_fn = strrep(s_raw_fn, '.gz', '');\n",
    "end"
   ]
  },
  {
   "cell_type": "code",
   "execution_count": null,
   "id": "15fd9bc5-7518-47c6-9586-ea326d27c17d",
   "metadata": {},
   "outputs": [],
   "source": [
    "% Load the zipped and unzipped functional data\n",
    "f_raw_fn = fullfile(data_dir, 'func', ['sub-01' '_task-ft_run-1_bold.nii.gz']);\n",
    "if exist(f_raw_fn, 'file')\n",
    "    out_fns = gunzip(f_raw_fn);\n",
    "    f_fn = out_fns{1};\n",
    "else\n",
    "    f_fn = strrep(f_raw_fn, '.gz', '');\n",
    "end"
   ]
  },
  {
   "cell_type": "code",
   "execution_count": null,
   "id": "a4fe182d-43d5-41ea-a3f5-0ec3b83b8209",
   "metadata": {},
   "outputs": [],
   "source": [
    "% Create preprocessing subfolders anat and func\n",
    "anat_dir = fullfile(processing_dir, 'anat'); \n",
    "func_dir = fullfile(processing_dir, 'func'); \n",
    "if ~exist(anat_dir, 'dir')\n",
    "    mkdir(anat_dir)\n",
    "end\n",
    "if ~exist(func_dir, 'dir')\n",
    "    mkdir(func_dir)\n",
    "end"
   ]
  },
  {
   "cell_type": "code",
   "execution_count": null,
   "id": "79d91095-8718-49c8-b98e-2b908d42b7cd",
   "metadata": {},
   "outputs": [],
   "source": [
    "% Copy extracted files to the corresponding preprocessing subfolders\n",
    "anat_fn = fullfile(processing_dir, 'anat', ['sub-01' '_T1w.nii']);\n",
    "func_fn = fullfile(processing_dir, 'func', ['sub-01' '_task-ft_run-1_bold.nii']);\n",
    "if ~exist(anat_fn, 'file')\n",
    "    copyfile(s_fn, anat_dir)\n",
    "end\n",
    "if ~exist(func_fn, 'file')\n",
    "    copyfile(f_fn, func_dir)\n",
    "end"
   ]
  },
  {
   "cell_type": "code",
   "execution_count": null,
   "id": "1aee86a0-7004-41cc-b973-dbc3cee8a999",
   "metadata": {},
   "outputs": [],
   "source": [
    "addpath (fullfile (getenv('PWD'), 'spm12')); savepath ();\n",
    "addpath (fullfile (getenv('PWD'), 'dicm2nii-0.2')); savepath ();"
   ]
  },
  {
   "cell_type": "markdown",
   "id": "11bf03e3-9d13-4627-9a41-278354402a3d",
   "metadata": {},
   "source": [
    "Now it is time to show the structural data using the function fmrwhy_util_readNifti"
   ]
  },
  {
   "cell_type": "code",
   "execution_count": null,
   "id": "166dbfb1-6a83-4a8c-86b1-799e8d84da26",
   "metadata": {},
   "outputs": [],
   "source": [
    "graphics_toolkit (\"gnuplot\");\n",
    "[p_func, frm1, rg1, dim1] = fmrwhy_util_readNifti(anat_fn);\n",
    "struct_4Dimg = p_func.nii.img;\n",
    "[Ni, Nj, Nk, Nt] = size(struct_4Dimg);\n",
    "subplot(131); imagesc(rot90(squeeze(struct_4Dimg(round(Ni/2),:,:,1))));\n",
    "subplot(132); imagesc(rot90(squeeze(struct_4Dimg(:,round(Nj/2),:,1))));\n",
    "subplot(133); imagesc(rot90(squeeze(struct_4Dimg(:,:,round(Nk/2),1))));"
   ]
  },
  {
   "cell_type": "code",
   "execution_count": null,
   "id": "11411454-9f4b-4502-8e18-22d33e9777fd",
   "metadata": {},
   "outputs": [],
   "source": [
    "% TO-DO\n",
    "% Question: what did we plot in the previous cell?\n",
    "% Try to plot another specific slice of the Image (hint: check the size of the structural image first)"
   ]
  },
  {
   "cell_type": "markdown",
   "id": "6cebefe5-2759-4604-ab32-34100c5cb240",
   "metadata": {},
   "source": [
    "Here we start the pre-processing of the fMRI data\n",
    "\n",
    "The preprocessing pipeline in SPM12 prepares raw fMRI data for statistical analysis by correcting for various artifacts and aligning the images across time and space. \n",
    "\n",
    "The key preprocessing steps include:\n",
    "\n",
    "1. Slice Timing Correction (STC)\n",
    "Corrects for differences in slice acquisition times due to sequential or interleaved scanning.\n",
    "Necessary for event-related fMRI but less critical for block designs.\n",
    "\n",
    "3. Realignment\n",
    "Corrects for head motion by aligning all fMRI volumes to a reference volume (usually the first or mean image).\n",
    "Produces motion parameters that can be used as nuisance regressors in later analyses.\n",
    "\n",
    "\n",
    "5. Co-registration\n",
    "Aligns the functional (EPI) images with a high-resolution anatomical image (T1-weighted).\n",
    "Improves spatial accuracy in normalization and subsequent analyses.\n",
    "\n",
    "\n",
    "7. Segmentation and Normalization\n",
    "Segments the T1-weighted anatomical image into different tissue types (gray matter, white matter, CSF).\n",
    "Computes spatial transformations to align the subject's brain to a standard template (e.g., MNI space).\n",
    "Applies the transformation to both anatomical and functional images.\n",
    "\n",
    "\n",
    "9. Smoothing\n",
    "Applies a Gaussian kernel (e.g., 6-8 mm FWHM) to the normalized functional images.\n",
    "Improves signal-to-noise ratio and allows for better inter-subject comparisons.\n",
    "\n",
    "\n",
    "11. (Optional) Denoising and Artifact Correction\n",
    "Physiological noise correction (e.g., CompCor, RETROICOR, or ICA-based denoising).\n",
    "Motion scrubbing (framewise displacement-based exclusion).\n",
    "Nuisance regression (e.g., removing motion parameters, CSF, and white matter signals)."
   ]
  },
  {
   "cell_type": "code",
   "execution_count": null,
   "id": "ebf8e893-70df-482b-9c02-3d83ee750c92",
   "metadata": {},
   "outputs": [],
   "source": [
    "%  Realignment\n",
    "f4D_spm = spm_vol(func_fn);\n",
    "spm_size = size(f4D_spm);\n",
    "Nt = spm_size(1);\n",
    "% Declare output structure used during the whole analysis\n",
    "output = struct;"
   ]
  },
  {
   "cell_type": "code",
   "execution_count": null,
   "id": "7c1db91a-9f8e-4ff8-8fb2-6aaef12679ae",
   "metadata": {},
   "outputs": [],
   "source": [
    "% STEP 1 -- Realign (estimate and reslice) all functionals to first functional\n",
    "disp('Realign all volumes to first functional volume');\n",
    "spm('defaults','fmri');\n",
    "spm_jobman('initcfg');\n",
    "realign_estimate_reslice = struct;\n",
    "% Data\n",
    "fnms={};\n",
    "for i = 1:Nt\n",
    "    fnms{i} = [func_fn ',' num2str(i) ];\n",
    "end\n",
    "realign_estimate_reslice.matlabbatch{1}.spm.spatial.realign.estwrite.data={fnms'}; # This is a spatial transformation"
   ]
  },
  {
   "cell_type": "code",
   "execution_count": null,
   "id": "c70448c1-4883-4f68-9916-6f7c665549a7",
   "metadata": {},
   "outputs": [],
   "source": [
    "% Estimate Options\n",
    "realign_estimate_reslice.matlabbatch{1}.spm.spatial.realign.estwrite.eoptions.quality = 0.9;\n",
    "realign_estimate_reslice.matlabbatch{1}.spm.spatial.realign.estwrite.eoptions.sep = 4;\n",
    "realign_estimate_reslice.matlabbatch{1}.spm.spatial.realign.estwrite.eoptions.fwhm = 5;\n",
    "realign_estimate_reslice.matlabbatch{1}.spm.spatial.realign.estwrite.eoptions.rtm = 1;\n",
    "realign_estimate_reslice.matlabbatch{1}.spm.spatial.realign.estwrite.eoptions.interp = 2;\n",
    "realign_estimate_reslice.matlabbatch{1}.spm.spatial.realign.estwrite.eoptions.wrap = [0 0 0];\n",
    "realign_estimate_reslice.matlabbatch{1}.spm.spatial.realign.estwrite.eoptions.weight = '';"
   ]
  },
  {
   "cell_type": "code",
   "execution_count": null,
   "id": "fcea6a7a-ae5d-4b79-9bd5-8aab67a10413",
   "metadata": {},
   "outputs": [],
   "source": [
    "% Reslice Options\n",
    "realign_estimate_reslice.matlabbatch{1}.spm.spatial.realign.estwrite.roptions.which = [2 1];\n",
    "realign_estimate_reslice.matlabbatch{1}.spm.spatial.realign.estwrite.roptions.interp = 4;\n",
    "realign_estimate_reslice.matlabbatch{1}.spm.spatial.realign.estwrite.roptions.wrap = [0 0 0];\n",
    "realign_estimate_reslice.matlabbatch{1}.spm.spatial.realign.estwrite.roptions.mask = 1;\n",
    "realign_estimate_reslice.matlabbatch{1}.spm.spatial.realign.estwrite.roptions.prefix = 'r';"
   ]
  },
  {
   "cell_type": "code",
   "execution_count": null,
   "id": "604f18d1-6d87-4894-bd7d-5c02c519883f",
   "metadata": {},
   "outputs": [],
   "source": [
    "% Run the job\n",
    "spm_jobman('run',realign_estimate_reslice.matlabbatch);"
   ]
  },
  {
   "cell_type": "code",
   "execution_count": null,
   "id": "1fc68d04-1b85-4c3d-ad6f-0003327e10a1",
   "metadata": {},
   "outputs": [],
   "source": [
    "[d, f, e] = fileparts(func_fn);\n",
    "output.rfunctional_fn = [d filesep 'r' f e]; % Here we define the appendix for the realign corrected file (new)\n",
    "output.mp_fn = [d filesep 'rp_' f '.txt']; % This is the file containing the Rigid Body transformations (Tx, Ty, Tz, R, P, Y)\n",
    "output.RB = load(output.mp_fn);\n",
    "output.mean_functional_fn = [d filesep 'mean' f e];\n",
    "\n",
    "disp('Realignment - Done!');"
   ]
  },
  {
   "cell_type": "code",
   "execution_count": null,
   "id": "75f15d73-a16a-48a8-8cdc-fa38e4bda921",
   "metadata": {},
   "outputs": [],
   "source": [
    "% TO-DO\n",
    "% Check if you can find the newly generated file and identify its name"
   ]
  },
  {
   "cell_type": "code",
   "execution_count": null,
   "id": "39cbf9cb-228f-432e-869c-28b7d6dc6acf",
   "metadata": {},
   "outputs": [],
   "source": [
    "% Now we will perform the STC\n",
    "spm('defaults','fmri');\n",
    "spm_jobman('initcfg');\n",
    "\n",
    "stc_estimate = struct;\n",
    "\n",
    "% Data\n",
    "fnms={};\n",
    "for i = 1:Nt\n",
    "    fnms{i} = [output.rfunctional_fn  ',' num2str(i) ];\n",
    "end\n",
    "stc_estimate. matlabbatch{1}.spm.temporal.st.scans = {fnms'}; # Now it is temporal"
   ]
  },
  {
   "cell_type": "code",
   "execution_count": null,
   "id": "910e484b-e2b6-4076-ae9a-3737b727d148",
   "metadata": {},
   "outputs": [],
   "source": [
    "% Here some parameters that you need to change according to your data acquisition\n",
    "stc_estimate.matlabbatch{1}.spm.temporal.st.nslices = 34;\n",
    "stc_estimate.matlabbatch{1}.spm.temporal.st.tr = 2;\n",
    "stc_estimate.matlabbatch{1}.spm.temporal.st.ta = 2-2/34;\n",
    "stc_estimate.matlabbatch{1}.spm.temporal.st.so = [2:2:34 1:2:34]; # Interleaved mode\n",
    "stc_estimate.matlabbatch{1}.spm.temporal.st.refslice = 34;"
   ]
  },
  {
   "cell_type": "code",
   "execution_count": null,
   "id": "84a75f89-cd0f-476e-b344-4525b9e59744",
   "metadata": {},
   "outputs": [],
   "source": [
    "% Run the job\n",
    "spm_jobman('run', stc_estimate.matlabbatch);"
   ]
  },
  {
   "cell_type": "code",
   "execution_count": null,
   "id": "72cfaec1-492a-435f-8cd3-c83ea1b020c4",
   "metadata": {},
   "outputs": [],
   "source": [
    "[d, f, e] = fileparts(output.rfunctional_fn);\n",
    "output.stc_unctional_fn = [d filesep 'a' f e]; % Here we define the appendix for the STC (realigned) corrected file (new)\n",
    "\n",
    "disp('STC - Done!');"
   ]
  },
  {
   "cell_type": "code",
   "execution_count": null,
   "id": "3a57c4b2-b442-47bf-9a3b-b29449b48895",
   "metadata": {},
   "outputs": [],
   "source": [
    "% TO-DO\n",
    "% Check if you can find the newly generated file and identify its name"
   ]
  },
  {
   "cell_type": "code",
   "execution_count": null,
   "id": "657205db-c532-4ef1-bea4-4b2e4f964dde",
   "metadata": {},
   "outputs": [],
   "source": [
    "% Now we will coregister the structural image to first functional image (estimate only)\n",
    "\n",
    "disp('Coregister structural image to first dynamic image');\n",
    "spm('defaults','fmri');\n",
    "spm_jobman('initcfg');\n",
    "coreg_estimate = struct;\n",
    "\n",
    "% Reference image\n",
    "coreg_estimate.matlabbatch{1}.spm.spatial.coreg.estimate.ref = {output.mean_functional_fn};\n",
    "% Source image\n",
    "coreg_estimate.matlabbatch{1}.spm.spatial.coreg.estimate.source = {anat_fn};\n",
    "\n",
    "% Here we use the mean functional as a reference and we co-register the structural accordingly"
   ]
  },
  {
   "cell_type": "code",
   "execution_count": null,
   "id": "faacd4c2-830f-4736-82e6-31b1cfb27089",
   "metadata": {},
   "outputs": [],
   "source": []
  },
  {
   "cell_type": "code",
   "execution_count": null,
   "id": "a03c7637-c5c1-4f55-a758-809ad07f1390",
   "metadata": {},
   "outputs": [],
   "source": [
    "% Estimate Options\n",
    "coreg_estimate.matlabbatch{1}.spm.spatial.coreg.estimate.eoptions.cost_fun = 'nmi';\n",
    "coreg_estimate.matlabbatch{1}.spm.spatial.coreg.estimate.eoptions.sep = [4 2];\n",
    "coreg_estimate.matlabbatch{1}.spm.spatial.coreg.estimate.eoptions.tol = [0.02 0.02 0.02 0.001 0.001 0.001 0.01 0.01 0.01 0.001 0.001 0.001];\n",
    "coreg_estimate.matlabbatch{1}.spm.spatial.coreg.estimate.eoptions.fwhm = [7 7];"
   ]
  },
  {
   "cell_type": "code",
   "execution_count": null,
   "id": "b449eba1-d8f3-4c21-8b50-f49dcdf2c08b",
   "metadata": {},
   "outputs": [],
   "source": [
    "% Run the job\n",
    "spm_jobman('run',coreg_estimate.matlabbatch);\n",
    "\n",
    "disp('CoRegistration Done!');"
   ]
  },
  {
   "cell_type": "code",
   "execution_count": null,
   "id": "fa1041c6-0d90-457d-8301-e8d6090c6d7a",
   "metadata": {},
   "outputs": [],
   "source": [
    "% TO-DO\n",
    "% Did you generate a new file?\n",
    "% Explain your answer"
   ]
  },
  {
   "cell_type": "code",
   "execution_count": null,
   "id": "4940fa6b-c708-4144-803f-c067e45c98be",
   "metadata": {},
   "outputs": [],
   "source": [
    "% Segmentation of coregistered structural image into GM, WM, CSF, etc\n",
    "% (with implicit warping to MNI space, saving forward and inverse transformations)\n",
    "disp('Segmentation');\n",
    "spm('defaults','fmri');\n",
    "spm_jobman('initcfg');\n",
    "segmentation = struct;\n",
    "spm_dir= 'spm12'"
   ]
  },
  {
   "cell_type": "code",
   "execution_count": null,
   "id": "693f40ff-a9ac-475b-8227-fbdd34ef48dd",
   "metadata": {},
   "outputs": [],
   "source": [
    "% Parameters\n",
    "% Channel\n",
    "segmentation.matlabbatch{1}.spm.spatial.preproc.channel.biasreg = 0.001;\n",
    "segmentation.matlabbatch{1}.spm.spatial.preproc.channel.biasfwhm = 60;\n",
    "segmentation.matlabbatch{1}.spm.spatial.preproc.channel.write = [0 1];\n",
    "segmentation.matlabbatch{1}.spm.spatial.preproc.channel.vols = {anat_fn}; % Here the structural input\n",
    "% Tissue\n",
    "for t = 1:6\n",
    "    segmentation.matlabbatch{1}.spm.spatial.preproc.tissue(t).tpm = {[spm_dir filesep 'tpm' filesep 'TPM.nii,' num2str(t)]};\n",
    "    segmentation.matlabbatch{1}.spm.spatial.preproc.tissue(t).ngaus = t-1;\n",
    "    segmentation.matlabbatch{1}.spm.spatial.preproc.tissue(t).native = [1 0];\n",
    "    segmentation.matlabbatch{1}.spm.spatial.preproc.tissue(t).warped = [0 0];\n",
    "end\n",
    "segmentation.matlabbatch{1}.spm.spatial.preproc.tissue(1).ngaus = 1;\n",
    "segmentation.matlabbatch{1}.spm.spatial.preproc.tissue(6).ngaus = 2;\n",
    "% Warp\n",
    "segmentation.matlabbatch{1}.spm.spatial.preproc.warp.mrf = 1;\n",
    "segmentation.matlabbatch{1}.spm.spatial.preproc.warp.cleanup = 1;\n",
    "segmentation.matlabbatch{1}.spm.spatial.preproc.warp.reg = [0 0.001 0.5 0.05 0.2];\n",
    "segmentation.matlabbatch{1}.spm.spatial.preproc.warp.affreg = 'mni';\n",
    "segmentation.matlabbatch{1}.spm.spatial.preproc.warp.fwhm = 0;\n",
    "segmentation.matlabbatch{1}.spm.spatial.preproc.warp.samp = 3;\n",
    "segmentation.matlabbatch{1}.spm.spatial.preproc.warp.write=[1 1];"
   ]
  },
  {
   "cell_type": "code",
   "execution_count": null,
   "id": "6b3d0519-a771-4690-a4c9-f8c556b42c73",
   "metadata": {},
   "outputs": [],
   "source": [
    "% Run\n",
    "spm_jobman('run',segmentation.matlabbatch);"
   ]
  },
  {
   "cell_type": "code",
   "execution_count": null,
   "id": "945bf69a-3c59-4043-a985-b2ff56cc336e",
   "metadata": {},
   "outputs": [],
   "source": [
    "[d, f, e] = fileparts(anat_fn);\n",
    "output.forward_transformation = [d filesep 'y_' f e];\n",
    "output.inverse_transformation = [d filesep 'iy_' f e];\n",
    "output.biascorrected_structural = [d filesep 'm' f e];;\n",
    "output.gm_fn = [d filesep 'c1' f e];\n",
    "output.wm_fn = [d filesep 'c2' f e];\n",
    "output.csf_fn = [d filesep 'c3' f e];\n",
    "output.bone_fn = [d filesep 'c4' f e];\n",
    "output.soft_fn = [d filesep 'c5' f e];\n",
    "output.air_fn = [d filesep 'c6' f e];\n",
    "disp('Segmentation - done!');"
   ]
  },
  {
   "cell_type": "code",
   "execution_count": null,
   "id": "1c021e3d-af18-4ee4-aa1e-16d5b93c2c9c",
   "metadata": {},
   "outputs": [],
   "source": [
    "disp('Normalize the functional data');\n",
    "spm('defaults','fmri');\n",
    "spm_jobman('initcfg');\n",
    "normalize = struct;\n",
    "% Data\n",
    "fns={};\n",
    "for i = 1:Nt\n",
    "    fns{i} = [output.stc_unctional_fn ',' num2str(i) ]; %Why this data?\n",
    "end"
   ]
  },
  {
   "cell_type": "code",
   "execution_count": null,
   "id": "a05a6551-0da7-4aaa-a873-9a98ddc14f71",
   "metadata": {},
   "outputs": [],
   "source": []
  },
  {
   "cell_type": "code",
   "execution_count": null,
   "id": "d6754e34-2522-4e18-ab2c-98566d7293d4",
   "metadata": {},
   "outputs": [],
   "source": [
    "% Parameters\n",
    "normalize.matlabbatch{1}.spm.spatial.normalise.write.subj.def = {output.forward_transformation};\n",
    "normalize.matlabbatch{1}.spm.spatial.normalise.write.subj.resample= fns';\n",
    "normalize.matlabbatch{1}.spm.spatial.normalise.write.woptions.bb = [-78 -112 -70;78 76 85];\n",
    "normalize.matlabbatch{1}.spm.spatial.normalise.write.woptions.vox = [3 3 3];\n",
    "normalize.matlabbatch{1}.spm.spatial.normalise.write.woptions.interp = 4;\n",
    "normalize.matlabbatch{1}.spm.spatial.normalise.write.woptions.prefix = 'w';"
   ]
  },
  {
   "cell_type": "code",
   "execution_count": null,
   "id": "4616f9ca-957b-47b8-bb00-ddae562cbc95",
   "metadata": {},
   "outputs": [],
   "source": []
  },
  {
   "cell_type": "code",
   "execution_count": null,
   "id": "b844fcd4-323f-40e5-b83a-6826acc2ae72",
   "metadata": {},
   "outputs": [],
   "source": [
    "% Run\n",
    "spm_jobman('run',normalize.matlabbatch);"
   ]
  },
  {
   "cell_type": "code",
   "execution_count": null,
   "id": "0e6f1a41-d5d7-4058-96ad-79efe732e0a7",
   "metadata": {},
   "outputs": [],
   "source": [
    "[d, f, e] = fileparts(output.stc_unctional_fn);\n",
    "output.normalized_fn = [d filesep 'w' f e];\n",
    "disp('Normalization of the functional data - done!');"
   ]
  },
  {
   "cell_type": "code",
   "execution_count": null,
   "id": "178ee187-8f7a-4edb-8e6d-631f39735c45",
   "metadata": {},
   "outputs": [],
   "source": [
    "disp('Normalize the structural data');\n",
    "spm('defaults','fmri');\n",
    "spm_jobman('initcfg');\n",
    "normalize = struct;\n",
    "\n",
    "% Parameters\n",
    "normalize.matlabbatch{1}.spm.spatial.normalise.write.subj.def = {output.forward_transformation};\n",
    "normalize.matlabbatch{1}.spm.spatial.normalise.write.subj.resample= {output.biascorrected_structural};\n",
    "normalize.matlabbatch{1}.spm.spatial.normalise.write.woptions.bb = [-78 -112 -70;78 76 85];\n",
    "normalize.matlabbatch{1}.spm.spatial.normalise.write.woptions.vox = [1 1 1]; % Why this difference with functional data?\n",
    "normalize.matlabbatch{1}.spm.spatial.normalise.write.woptions.interp = 4;\n",
    "normalize.matlabbatch{1}.spm.spatial.normalise.write.woptions.prefix = 'w'; % New prefix"
   ]
  },
  {
   "cell_type": "code",
   "execution_count": null,
   "id": "79b88b84-e6ae-43ef-98b5-804030484b13",
   "metadata": {},
   "outputs": [],
   "source": [
    "% TO-DO\n",
    "% Describe why this difference"
   ]
  },
  {
   "cell_type": "code",
   "execution_count": null,
   "id": "ee38883e-debf-400c-b349-a4b7f5e3c536",
   "metadata": {},
   "outputs": [],
   "source": [
    "% Run\n",
    "spm_jobman('run',normalize.matlabbatch);"
   ]
  },
  {
   "cell_type": "code",
   "execution_count": null,
   "id": "ba5968b6-caa7-4ced-bd01-8497c157fe88",
   "metadata": {},
   "outputs": [],
   "source": [
    "[d, f, e] = fileparts(output.biascorrected_structural);\n",
    "output.normalized_struct = [d filesep 'w' f e];\n",
    "disp('Normalization of the structural data - done!');"
   ]
  },
  {
   "cell_type": "code",
   "execution_count": null,
   "id": "7491eb4c-4f4d-426f-b28f-0c26c676ec80",
   "metadata": {},
   "outputs": [],
   "source": [
    "% Now we will apply a Gaussian kernel smoothing on realigned, slice time corrected, normalized functional data\n",
    "disp('Gaussian kernel smoothing of functional data');\n",
    "spm('defaults','fmri');\n",
    "spm_jobman('initcfg');\n",
    "smooth = struct;\n",
    "% Data\n",
    "fns={};\n",
    "for i = 1:Nt\n",
    "    fns{i} = [output.normalized_fn ',' num2str(i) ];\n",
    "end\n",
    "\n",
    "smooth.matlabbatch{1}.spm.spatial.smooth.data = fns';\n",
    "\n",
    "\n"
   ]
  },
  {
   "cell_type": "code",
   "execution_count": null,
   "id": "8520f525-4781-4fc6-8aef-7d19a77e112a",
   "metadata": {},
   "outputs": [],
   "source": [
    "% Parameters\n",
    "smooth.matlabbatch{1}.spm.spatial.smooth.fwhm = [8 8 8]; % Why 8 mm?\n",
    "smooth.matlabbatch{1}.spm.spatial.smooth.dtype = 0;\n",
    "smooth.matlabbatch{1}.spm.spatial.smooth.im = 0;\n",
    "smooth.matlabbatch{1}.spm.spatial.smooth.prefix = 's'; % New prefix"
   ]
  },
  {
   "cell_type": "code",
   "execution_count": null,
   "id": "17b963a4-d8a0-4030-a2de-1eeb3f5ce359",
   "metadata": {},
   "outputs": [],
   "source": [
    "% TO-DO\n",
    "% Describe why 8 mm?"
   ]
  },
  {
   "cell_type": "code",
   "execution_count": null,
   "id": "b8adc30d-6b08-4c8d-8e25-543700045980",
   "metadata": {},
   "outputs": [],
   "source": [
    "% Run the job\n",
    "spm_jobman('run',smooth.matlabbatch);"
   ]
  },
  {
   "cell_type": "code",
   "execution_count": null,
   "id": "968c46b8-e035-45dc-8121-47e6d36f2309",
   "metadata": {},
   "outputs": [],
   "source": [
    "[d, f, e] = fileparts(output.normalized_fn);\n",
    "output.srfunctional_fn = [d filesep 's' f e]; % This data will serve as input for your model (design matrix)\n",
    "disp('Smoothing - done!');"
   ]
  },
  {
   "cell_type": "code",
   "execution_count": null,
   "id": "21c23453-7cfd-41b3-8009-7d1aedb152c4",
   "metadata": {},
   "outputs": [],
   "source": [
    "% Define the Design Matrix with its regressors: R, L, B and combination of them\n",
    "spm('defaults','fmri');\n",
    "spm_jobman('initcfg');\n",
    "design_stats = struct;\n",
    "func4D_spm = spm_vol(output.srfunctional_fn);\n",
    "func4D_size = size(func4D_spm);\n",
    "swarfs = spm_select('expand', fullfile(output.srfunctional_fn));\n",
    "\n",
    "% SETUP BATCH JOB STRUCTURE\n",
    "% dir\n",
    "design_stats.matlabbatch{1}.spm.stats.fmri_spec.dir = {data_stat}; \n",
    "% timing\n",
    "design_stats.matlabbatch{1}.spm.stats.fmri_spec.timing.units = 'secs';\n",
    "design_stats.matlabbatch{1}.spm.stats.fmri_spec.timing.RT = 2;\n",
    "design_stats.matlabbatch{1}.spm.stats.fmri_spec.timing.fmri_t = 16;\n",
    "design_stats.matlabbatch{1}.spm.stats.fmri_spec.timing.fmri_t0 = 8;\n",
    "% sess\n",
    "design_stats.matlabbatch{1}.spm.stats.fmri_spec.sess.scans = cellstr(swarfs);\n",
    "\n",
    "\n",
    "\n",
    "\n",
    "design_stats.matlabbatch{1}.spm.stats.fmri_spec.sess.cond(1).name = 'R';\n",
    "design_stats.matlabbatch{1}.spm.stats.fmri_spec.sess.cond(1).onset = [20\n",
    "                                                         100\n",
    "                                                         180\n",
    "                                                         260\n",
    "                                                         340];\n",
    "design_stats.matlabbatch{1}.spm.stats.fmri_spec.sess.cond(1).duration = 20;\n",
    "design_stats.matlabbatch{1}.spm.stats.fmri_spec.sess.cond(1).tmod = 0;\n",
    "design_stats.matlabbatch{1}.spm.stats.fmri_spec.sess.cond(1).pmod = struct('name', {}, 'param', {}, 'poly', {});\n",
    "design_stats.matlabbatch{1}.spm.stats.fmri_spec.sess.cond(1).orth = 1;\n",
    "\n",
    "design_stats.matlabbatch{1}.spm.stats.fmri_spec.sess.cond(2).name = 'L';\n",
    "design_stats.matlabbatch{1}.spm.stats.fmri_spec.sess.cond(2).onset = [60\n",
    "                                                         140\n",
    "                                                         220\n",
    "                                                         300\n",
    "                                                         380];\n",
    "design_stats.matlabbatch{1}.spm.stats.fmri_spec.sess.cond(2).duration = 20;\n",
    "design_stats.matlabbatch{1}.spm.stats.fmri_spec.sess.cond(2).tmod = 0;\n",
    "design_stats.matlabbatch{1}.spm.stats.fmri_spec.sess.cond(2).pmod = struct('name', {}, 'param', {}, 'poly', {});\n",
    "design_stats.matlabbatch{1}.spm.stats.fmri_spec.sess.cond(2).orth = 1;\n",
    "\n",
    "design_stats.matlabbatch{1}.spm.stats.fmri_spec.sess.cond(3).name = 'B';\n",
    "design_stats.matlabbatch{1}.spm.stats.fmri_spec.sess.cond(3).onset = [0\n",
    "                                                         40\n",
    "                                                         80\n",
    "                                                         120\n",
    "                                                         160\n",
    "                                                         200\n",
    "                                                         240\n",
    "                                                         280\n",
    "                                                         320\n",
    "                                                         360\n",
    "                                                         400];\n",
    "%%\n",
    "design_stats.matlabbatch{1}.spm.stats.fmri_spec.sess.cond(3).duration = 20;\n",
    "design_stats.matlabbatch{1}.spm.stats.fmri_spec.sess.cond(3).tmod = 0;\n",
    "design_stats.matlabbatch{1}.spm.stats.fmri_spec.sess.cond(3).pmod = struct('name', {}, 'param', {}, 'poly', {});\n",
    "design_stats.matlabbatch{1}.spm.stats.fmri_spec.sess.cond(3).orth = 1;\n",
    "design_stats.matlabbatch{1}.spm.stats.fmri_spec.sess.multi = {''};\n",
    "design_stats.matlabbatch{1}.spm.stats.fmri_spec.sess.regress = struct('name', {}, 'val', {});\n",
    "design_stats.matlabbatch{1}.spm.stats.fmri_spec.sess.multi_reg = {output.mp_fn};\n",
    "design_stats.matlabbatch{1}.spm.stats.fmri_spec.sess.hpf = 128;\n",
    "design_stats.matlabbatch{1}.spm.stats.fmri_spec.fact = struct('name', {}, 'levels', {});\n",
    "design_stats.matlabbatch{1}.spm.stats.fmri_spec.bases.hrf.derivs = [0 0];\n",
    "design_stats.matlabbatch{1}.spm.stats.fmri_spec.volt = 1;\n",
    "design_stats.matlabbatch{1}.spm.stats.fmri_spec.global = 'None';\n",
    "design_stats.matlabbatch{1}.spm.stats.fmri_spec.mthresh = 0.8;\n",
    "design_stats.matlabbatch{1}.spm.stats.fmri_spec.mask = {''};\n",
    "design_stats.matlabbatch{1}.spm.stats.fmri_spec.cvi = 'AR(1)';"
   ]
  },
  {
   "cell_type": "code",
   "execution_count": null,
   "id": "18f4a68e-f65a-4aac-b2e4-e9c38bb8788b",
   "metadata": {},
   "outputs": [],
   "source": [
    "% RUN BATCH JOB\n",
    "spm_jobman('run',design_stats.matlabbatch);"
   ]
  },
  {
   "cell_type": "code",
   "execution_count": null,
   "id": "a1212164-0b5c-4ac0-bedf-fc9c3deb0c1e",
   "metadata": {},
   "outputs": [],
   "source": [
    "% Estimate the Betas\n",
    "spm('defaults','fmri');\n",
    "spm_jobman('initcfg');\n",
    "model_estimation = struct;\n",
    "% spmmat\n",
    "model_estimation.matlabbatch{1}.spm.stats.fmri_est.spmmat = {[data_stat filesep 'SPM.mat']};\n",
    "% write_residuals\n",
    "model_estimation.matlabbatch{1}.spm.stats.fmri_est.write_residuals = 0;\n",
    "% method\n",
    "model_estimation.matlabbatch{1}.spm.stats.fmri_est.method.Classical = 1;\n",
    "% RUN BATCH JOB\n",
    "spm_jobman('run',model_estimation.matlabbatch);"
   ]
  },
  {
   "cell_type": "code",
   "execution_count": null,
   "id": "bda3a74e-f484-487b-83b1-e48a9505dbfb",
   "metadata": {},
   "outputs": [],
   "source": [
    "% Estimate the contrasts and SPMs\n",
    "spm('defaults','fmri');\n",
    "spm_jobman('initcfg');\n",
    "\n",
    "contrast = struct;\n",
    "% spmmat\n",
    "\n",
    "contrast.matlabbatch{1}.spm.stats.con.spmmat = {[data_stat filesep 'SPM.mat']};\n",
    "\n",
    "%contrast\n",
    "contrast.matlabbatch{1}.spm.stats.con.consess{1}.tcon.name = 'R';\n",
    "contrast.matlabbatch{1}.spm.stats.con.consess{1}.tcon.weights = 1;\n",
    "contrast.matlabbatch{1}.spm.stats.con.consess{1}.tcon.sessrep = 'none';\n",
    "contrast.matlabbatch{1}.spm.stats.con.consess{2}.tcon.name = 'L';\n",
    "contrast.matlabbatch{1}.spm.stats.con.consess{2}.tcon.weights = [0 1];\n",
    "contrast.matlabbatch{1}.spm.stats.con.consess{2}.tcon.sessrep = 'none';\n",
    "contrast.matlabbatch{1}.spm.stats.con.consess{3}.tcon.name = 'RvsL';\n",
    "contrast.matlabbatch{1}.spm.stats.con.consess{3}.tcon.weights = [1 -1];\n",
    "contrast.matlabbatch{1}.spm.stats.con.consess{3}.tcon.sessrep = 'none';\n",
    "contrast.matlabbatch{1}.spm.stats.con.delete = 0;\n",
    "% RUN BATCH JOB\n",
    "spm_jobman('run',contrast.matlabbatch);"
   ]
  },
  {
   "cell_type": "code",
   "execution_count": null,
   "id": "3944e152-037e-4915-b6de-a51974e4f7ce",
   "metadata": {},
   "outputs": [],
   "source": [
    "% Show the results\n",
    "spm('defaults','fmri');\n",
    "spm_jobman('initcfg');\n",
    "% SETUP BATCH JOB STRUCTURE\n",
    "results = struct;\n",
    "% spmmat\n",
    "results.matlabbatch{1}.spm.stats.results.spmmat = {[data_stat filesep 'SPM.mat']};\n",
    "% conspec\n",
    "results.matlabbatch{1}.spm.stats.results.conspec.titlestr = '';\n",
    "results.matlabbatch{1}.spm.stats.results.conspec.contrasts = 3;\n",
    "results.matlabbatch{1}.spm.stats.results.conspec.threshdesc = 'FWE';\n",
    "results.matlabbatch{1}.spm.stats.results.conspec.thresh = 0.0500;\n",
    "results.matlabbatch{1}.spm.stats.results.conspec.extent = 0;\n",
    "results.matlabbatch{1}.spm.stats.results.conspec.conjunction = 1;\n",
    "results.matlabbatch{1}.spm.stats.results.conspec.mask.none = 1;\n",
    "% units\n",
    "results.matlabbatch{1}.spm.stats.results.units = 1;\n",
    "% export\n",
    "results.matlabbatch{1}.spm.stats.results.export{1}.ps = 1;\n",
    "% RUN BATCH JOB\n",
    "spm_jobman('run',results.matlabbatch);"
   ]
  }
 ],
 "metadata": {
  "kernelspec": {
   "display_name": "Octave",
   "language": "octave",
   "name": "octave"
  },
  "language_info": {
   "file_extension": ".m",
   "help_links": [
    {
     "text": "GNU Octave",
     "url": "https://www.gnu.org/software/octave/support.html"
    },
    {
     "text": "Octave Kernel",
     "url": "https://github.com/Calysto/octave_kernel"
    },
    {
     "text": "MetaKernel Magics",
     "url": "https://metakernel.readthedocs.io/en/latest/source/README.html"
    }
   ],
   "mimetype": "text/x-octave",
   "name": "octave",
   "version": "9.3.0"
  }
 },
 "nbformat": 4,
 "nbformat_minor": 5
}
